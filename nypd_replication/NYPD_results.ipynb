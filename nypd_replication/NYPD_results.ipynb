{
 "cells": [
  {
   "cell_type": "code",
   "execution_count": 1,
   "id": "ae8d91c7-69de-45c3-9d3a-fda43c63509d",
   "metadata": {},
   "outputs": [],
   "source": [
    "import pandas as pd\n",
    "from evaluation_utils import *\n",
    "import matplotlib.pyplot as plt\n",
    "import seaborn as sns\n",
    "import warnings\n",
    "warnings.filterwarnings(\"ignore\")\n",
    "sns.set_palette(('#193063', '#f0b660', '#56a4ba', '#f28157', '#6079B3', '#7d1b2a'))\n"
   ]
  },
  {
   "cell_type": "code",
   "execution_count": 2,
   "id": "adf672cf-83ca-4fb4-9cde-579dc2c9523f",
   "metadata": {},
   "outputs": [],
   "source": [
    "df_sus_complaints = pd.read_parquet('data_processing/train_models/output/sustained_complaints/observations_with_predictions.parquet')\n",
    "df_sus_complaints['pred_year'] = df_sus_complaints['observation_date'].dt.year\n",
    "\n",
    "df_lawsuits = pd.read_parquet('data_processing/train_models/output/expensive_lawsuit/observations_with_predictions.parquet')\n",
    "df_lawsuits['pred_year'] = df_lawsuits['observation_date'].dt.year\n",
    "\n",
    "\n",
    "ml_col = 'phat'\n",
    "rbc_col = 'past_two_years.complaints.total'\n",
    "rbl_col = 'past_two_years.lawsuits.total'\n",
    "complaint_outcome = 'future_two_years.complaints.disposition_substantiated'\n",
    "lawsuit_outcome = 'future_two_years.lawsuits.high_payout_suit'"
   ]
  },
  {
   "cell_type": "markdown",
   "id": "70c14d59-892b-4cda-99af-e233bcafa34c",
   "metadata": {},
   "source": [
    "# C1: Summary stats of dataset size"
   ]
  },
  {
   "cell_type": "markdown",
   "id": "7f4e2493-24f3-4353-a4cc-3e88bb7da8e4",
   "metadata": {},
   "source": [
    "### Number of observations\n"
   ]
  },
  {
   "cell_type": "code",
   "execution_count": 3,
   "id": "0955689c-9416-49eb-8f62-3e3e4104383b",
   "metadata": {},
   "outputs": [
    {
     "data": {
      "text/plain": [
       "2019    35697\n",
       "2018    35507\n",
       "2017    35381\n",
       "2016    34767\n",
       "2015    33942\n",
       "Name: pred_year, dtype: int64"
      ]
     },
     "execution_count": 3,
     "metadata": {},
     "output_type": "execute_result"
    }
   ],
   "source": [
    "df_sus_complaints.pred_year.value_counts()"
   ]
  },
  {
   "cell_type": "code",
   "execution_count": 4,
   "id": "00fbab00",
   "metadata": {},
   "outputs": [
    {
     "data": {
      "text/plain": [
       "(175294, 138)"
      ]
     },
     "execution_count": 4,
     "metadata": {},
     "output_type": "execute_result"
    }
   ],
   "source": [
    "df_sus_complaints.shape"
   ]
  },
  {
   "cell_type": "markdown",
   "id": "467b8010-e86c-4480-ba44-e39636a6747c",
   "metadata": {},
   "source": [
    "### Total features"
   ]
  },
  {
   "cell_type": "code",
   "execution_count": 5,
   "id": "a5d6c570-3f9b-4d54-a8a7-cf23e2abc547",
   "metadata": {},
   "outputs": [
    {
     "data": {
      "text/plain": [
       "(175294, 117)"
      ]
     },
     "execution_count": 5,
     "metadata": {},
     "output_type": "execute_result"
    }
   ],
   "source": [
    "df_sus_complaints.filter(like='past').shape"
   ]
  },
  {
   "cell_type": "markdown",
   "id": "2c41a478-bcb8-419b-b09f-e58e98372d51",
   "metadata": {},
   "source": [
    "### Base rates"
   ]
  },
  {
   "cell_type": "code",
   "execution_count": 6,
   "id": "4d5975f9-e610-4e87-8aa3-01bee9dad09d",
   "metadata": {},
   "outputs": [
    {
     "data": {
      "text/html": [
       "<div>\n",
       "<style scoped>\n",
       "    .dataframe tbody tr th:only-of-type {\n",
       "        vertical-align: middle;\n",
       "    }\n",
       "\n",
       "    .dataframe tbody tr th {\n",
       "        vertical-align: top;\n",
       "    }\n",
       "\n",
       "    .dataframe thead th {\n",
       "        text-align: right;\n",
       "    }\n",
       "</style>\n",
       "<table border=\"1\" class=\"dataframe\">\n",
       "  <thead>\n",
       "    <tr style=\"text-align: right;\">\n",
       "      <th></th>\n",
       "      <th>Percentage of officers with sustained complaint in next two years</th>\n",
       "    </tr>\n",
       "    <tr>\n",
       "      <th>pred_year</th>\n",
       "      <th></th>\n",
       "    </tr>\n",
       "  </thead>\n",
       "  <tbody>\n",
       "    <tr>\n",
       "      <th>2015</th>\n",
       "      <td>0.028342</td>\n",
       "    </tr>\n",
       "    <tr>\n",
       "      <th>2016</th>\n",
       "      <td>0.023269</td>\n",
       "    </tr>\n",
       "    <tr>\n",
       "      <th>2017</th>\n",
       "      <td>0.024448</td>\n",
       "    </tr>\n",
       "    <tr>\n",
       "      <th>2018</th>\n",
       "      <td>0.033346</td>\n",
       "    </tr>\n",
       "    <tr>\n",
       "      <th>2019</th>\n",
       "      <td>0.045998</td>\n",
       "    </tr>\n",
       "  </tbody>\n",
       "</table>\n",
       "</div>"
      ],
      "text/plain": [
       "           Percentage of officers with sustained complaint in next two years\n",
       "pred_year                                                                   \n",
       "2015                                                0.028342                \n",
       "2016                                                0.023269                \n",
       "2017                                                0.024448                \n",
       "2018                                                0.033346                \n",
       "2019                                                0.045998                "
      ]
     },
     "execution_count": 6,
     "metadata": {},
     "output_type": "execute_result"
    }
   ],
   "source": [
    "base_rates = calc_base_rate_across_years(df_sus_complaints, complaint_outcome)\n",
    "base_rates.rename(columns={'base_rate':\"Percentage of officers with sustained complaint in next two years\"})                                                                         "
   ]
  },
  {
   "cell_type": "code",
   "execution_count": 7,
   "id": "0ea7aef2-5cb2-4110-affc-79038ea6b971",
   "metadata": {},
   "outputs": [
    {
     "data": {
      "text/html": [
       "<div>\n",
       "<style scoped>\n",
       "    .dataframe tbody tr th:only-of-type {\n",
       "        vertical-align: middle;\n",
       "    }\n",
       "\n",
       "    .dataframe tbody tr th {\n",
       "        vertical-align: top;\n",
       "    }\n",
       "\n",
       "    .dataframe thead th {\n",
       "        text-align: right;\n",
       "    }\n",
       "</style>\n",
       "<table border=\"1\" class=\"dataframe\">\n",
       "  <thead>\n",
       "    <tr style=\"text-align: right;\">\n",
       "      <th></th>\n",
       "      <th>Percentage of officers with expensive lawsuit in next two years</th>\n",
       "    </tr>\n",
       "    <tr>\n",
       "      <th>pred_year</th>\n",
       "      <th></th>\n",
       "    </tr>\n",
       "  </thead>\n",
       "  <tbody>\n",
       "    <tr>\n",
       "      <th>2015</th>\n",
       "      <td>0.029639</td>\n",
       "    </tr>\n",
       "    <tr>\n",
       "      <th>2016</th>\n",
       "      <td>0.021227</td>\n",
       "    </tr>\n",
       "    <tr>\n",
       "      <th>2017</th>\n",
       "      <td>0.019417</td>\n",
       "    </tr>\n",
       "    <tr>\n",
       "      <th>2018</th>\n",
       "      <td>0.016983</td>\n",
       "    </tr>\n",
       "    <tr>\n",
       "      <th>2019</th>\n",
       "      <td>0.011598</td>\n",
       "    </tr>\n",
       "  </tbody>\n",
       "</table>\n",
       "</div>"
      ],
      "text/plain": [
       "           Percentage of officers with expensive lawsuit in next two years\n",
       "pred_year                                                                 \n",
       "2015                                                0.029639              \n",
       "2016                                                0.021227              \n",
       "2017                                                0.019417              \n",
       "2018                                                0.016983              \n",
       "2019                                                0.011598              "
      ]
     },
     "execution_count": 7,
     "metadata": {},
     "output_type": "execute_result"
    }
   ],
   "source": [
    "base_rates = calc_base_rate_across_years(df_lawsuits, lawsuit_outcome)\n",
    "base_rates.rename(columns={'base_rate':\"Percentage of officers with expensive lawsuit in next two years\"})                                                                         "
   ]
  },
  {
   "cell_type": "markdown",
   "id": "f2b1ee2c-d244-4812-9fed-468929daeca5",
   "metadata": {},
   "source": [
    "### "
   ]
  },
  {
   "cell_type": "markdown",
   "id": "72ad9ccb-0d04-4791-ae74-683c627a5c55",
   "metadata": {},
   "source": [
    "# C2: Performance of machine learning models"
   ]
  },
  {
   "cell_type": "code",
   "execution_count": 8,
   "id": "cb6be6ed-0e33-4ed3-842e-42e47c7a1a31",
   "metadata": {},
   "outputs": [],
   "source": [
    "\n",
    "recalls = [ (100*q,calc_recall(df_sus_complaints, 'phat',complaint_outcome,q)) for q in np.linspace(.5,1,51)]\n",
    "sus_recall_df = pd.DataFrame(recalls,columns=['Risk Percentile','Recall'])\n",
    "sus_recall_df['Outcome'] = 'Sustained Complaints'\n",
    "\n",
    "\n",
    "\n",
    "recalls = [ (100*q,calc_recall(df_lawsuits, 'phat',lawsuit_outcome,q)) for q in np.linspace(.5,1,51)]\n",
    "lawsuit_recall_df = pd.DataFrame(recalls,columns=['Risk Percentile','Recall'])\n",
    "lawsuit_recall_df['Outcome'] = 'Expensive Lawsuits'\n",
    "\n",
    "recall_df = pd.concat([sus_recall_df,lawsuit_recall_df],ignore_index=True)"
   ]
  },
  {
   "cell_type": "code",
   "execution_count": 9,
   "id": "edac6302-8c71-48cc-90ea-89dcc07eade1",
   "metadata": {},
   "outputs": [
    {
     "data": {
      "text/plain": [
       "0.2781098268957099"
      ]
     },
     "execution_count": 9,
     "metadata": {},
     "output_type": "execute_result"
    }
   ],
   "source": [
    "calc_recall(df_lawsuits, 'phat','future_two_years.lawsuits.officer_payout',.95,indicator=False)"
   ]
  },
  {
   "cell_type": "code",
   "execution_count": 10,
   "id": "bbf42d67",
   "metadata": {},
   "outputs": [
    {
     "data": {
      "image/png": "[encoded data removed]",
      "text/plain": [
       "<Figure size 640x480 with 1 Axes>"
      ]
     },
     "metadata": {},
     "output_type": "display_data"
    }
   ],
   "source": [
    "with plt.rc_context({\n",
    "                     'xtick.color': '.28',\n",
    "                     'ytick.color': '.28',\n",
    "                     'axes.grid.axis': 'y',\n",
    "                     'axes.titlesize': 16,\n",
    "                     'axes.labelsize': 14,\n",
    "                     'xtick.bottom': True,\n",
    "                    }):\n",
    "    figure = plt.figure()\n",
    "    plt.axvline(\n",
    "        x=95, \n",
    "        ymin=0, \n",
    "        ymax=recall_df[recall_df['Risk Percentile'] == 95]['Recall'].max(), \n",
    "        color='#7d1b2a', \n",
    "        alpha=.75,\n",
    "        linestyle='--'\n",
    "    )\n",
    "    plt.text(\n",
    "        x=73, \n",
    "        y=recall_df[recall_df['Risk Percentile'] == 95]['Recall'].min() - .02, \n",
    "        s=\"recall for top 5% of officers\", \n",
    "        fontsize=10, \n",
    "        color='#7d1b2a',\n",
    "    ) \n",
    "    figure = sns.lineplot(x='Risk Percentile',y='Recall',data=recall_df, hue='Outcome',style='Outcome',markers=True)\n",
    "    plt.title(\"Recall Curves\")\n",
    "    plt.xticks([int(x) for x in np.linspace(50,100,11)])\n",
    "\n",
    "\n",
    "    plt.show()"
   ]
  },
  {
   "cell_type": "markdown",
   "id": "74bd298f-602a-4ae5-bbf3-8a90b0a965ea",
   "metadata": {},
   "source": [
    "### Measuring lawsuit recall by amount"
   ]
  },
  {
   "cell_type": "code",
   "execution_count": 11,
   "id": "6e86194b-70a7-430f-8ca6-2b1db660167b",
   "metadata": {},
   "outputs": [
    {
     "data": {
      "image/png": "[encoded data removed]",
      "text/plain": [
       "<Figure size 640x480 with 1 Axes>"
      ]
     },
     "metadata": {},
     "output_type": "display_data"
    }
   ],
   "source": [
    "payout_col = 'future_two_years.lawsuits.officer_payout'\n",
    "\n",
    "recalls = [ (100*q,calc_recall(df_lawsuits, 'phat',payout_col,q,indicator=False)) for q in np.linspace(.5,1,51)]\n",
    "lawsuit_recall_df = pd.DataFrame(recalls,columns=['Risk Percentile','Recall'])\n",
    "lawsuit_recall_df['Outcome'] = 'Lawsuit amount'\n",
    "\n",
    "with plt.rc_context({\n",
    "                     'xtick.color': '.28',\n",
    "                     'ytick.color': '.28',\n",
    "                     'axes.grid.axis': 'y',\n",
    "                     'xtick.bottom': True,\n",
    "                    }):\n",
    "    figure = plt.figure()\n",
    "    figure = sns.lineplot(x='Risk Percentile',y='Recall',data=lawsuit_recall_df,markers=True)\n",
    "    plt.title(\"Recall Curves\")\n",
    "    plt.xticks([int(x) for x in np.linspace(50,100,11)])\n",
    "    plt.show()\n"
   ]
  },
  {
   "cell_type": "markdown",
   "id": "eb50b353-54c4-448a-bdd9-83d601f8ecc4",
   "metadata": {},
   "source": [
    "# C3: Comparison of machine learning and simple models"
   ]
  },
  {
   "cell_type": "markdown",
   "id": "b1a77623-1e67-45c9-8ce6-f3d998edf2e7",
   "metadata": {},
   "source": [
    "# Evaluating on predicting sustained complaints"
   ]
  },
  {
   "cell_type": "code",
   "execution_count": 12,
   "id": "56d6551e-ea3f-4ede-a305-56ca2566ff87",
   "metadata": {},
   "outputs": [
    {
     "data": {
      "text/html": [
       "<div>\n",
       "<style scoped>\n",
       "    .dataframe tbody tr th:only-of-type {\n",
       "        vertical-align: middle;\n",
       "    }\n",
       "\n",
       "    .dataframe tbody tr th {\n",
       "        vertical-align: top;\n",
       "    }\n",
       "\n",
       "    .dataframe thead th {\n",
       "        text-align: right;\n",
       "    }\n",
       "</style>\n",
       "<table border=\"1\" class=\"dataframe\">\n",
       "  <thead>\n",
       "    <tr style=\"text-align: right;\">\n",
       "      <th></th>\n",
       "      <th>method</th>\n",
       "      <th>outcome</th>\n",
       "      <th>recall</th>\n",
       "      <th>true_positives</th>\n",
       "    </tr>\n",
       "  </thead>\n",
       "  <tbody>\n",
       "    <tr>\n",
       "      <th>0</th>\n",
       "      <td>rank by complaints</td>\n",
       "      <td>sustained complaints</td>\n",
       "      <td>0.176498</td>\n",
       "      <td>193.00</td>\n",
       "    </tr>\n",
       "    <tr>\n",
       "      <th>1</th>\n",
       "      <td>rank by lawsuits</td>\n",
       "      <td>sustained complaints</td>\n",
       "      <td>0.112130</td>\n",
       "      <td>120.04</td>\n",
       "    </tr>\n",
       "    <tr>\n",
       "      <th>2</th>\n",
       "      <td>machine learning</td>\n",
       "      <td>sustained complaints</td>\n",
       "      <td>0.185405</td>\n",
       "      <td>202.80</td>\n",
       "    </tr>\n",
       "  </tbody>\n",
       "</table>\n",
       "</div>"
      ],
      "text/plain": [
       "               method               outcome    recall  true_positives\n",
       "0  rank by complaints  sustained complaints  0.176498          193.00\n",
       "1    rank by lawsuits  sustained complaints  0.112130          120.04\n",
       "2    machine learning  sustained complaints  0.185405          202.80"
      ]
     },
     "execution_count": 12,
     "metadata": {},
     "output_type": "execute_result"
    }
   ],
   "source": [
    "all_results = []\n",
    "recall, true_positives = calc_recall_and_num_true_positives_rbc(df_sus_complaints,rbc_col, complaint_outcome,.95)\n",
    "\n",
    "results = {\n",
    "    'method':'rank by complaints',\n",
    "    'outcome':'sustained complaints',\n",
    "    'recall':recall,\n",
    "    'true_positives':true_positives\n",
    "}\n",
    "all_results.append(results)\n",
    "\n",
    "recall, true_positives = calc_recall_and_num_true_positives_rbc(df_sus_complaints,rbl_col, complaint_outcome,.95)\n",
    "results = {\n",
    "    'method':'rank by lawsuits',\n",
    "    'outcome':'sustained complaints',\n",
    "    'recall':recall,\n",
    "    'true_positives':true_positives\n",
    "}\n",
    "all_results.append(results)\n",
    "\n",
    "\n",
    "recall = calc_recall(df_sus_complaints, 'phat',complaint_outcome,.95)\n",
    "true_positives = calc_num_true_postives(df_sus_complaints, 'phat',complaint_outcome,.95)\n",
    "\n",
    "results = {\n",
    "    'method':'machine learning',\n",
    "    'outcome':'sustained complaints',\n",
    "    'recall':recall,\n",
    "    'true_positives':true_positives\n",
    "}\n",
    "all_results.append(results)\n",
    "\n",
    "pd.DataFrame(all_results)"
   ]
  },
  {
   "cell_type": "markdown",
   "id": "10283b21-3238-492a-b5fc-fe5f17f81800",
   "metadata": {},
   "source": [
    "## Evaluating on predicting expensive lawsuits"
   ]
  },
  {
   "cell_type": "code",
   "execution_count": 13,
   "id": "38f52f66-5bac-4a87-a9a7-eb763ecea417",
   "metadata": {},
   "outputs": [
    {
     "data": {
      "text/html": [
       "<div>\n",
       "<style scoped>\n",
       "    .dataframe tbody tr th:only-of-type {\n",
       "        vertical-align: middle;\n",
       "    }\n",
       "\n",
       "    .dataframe tbody tr th {\n",
       "        vertical-align: top;\n",
       "    }\n",
       "\n",
       "    .dataframe thead th {\n",
       "        text-align: right;\n",
       "    }\n",
       "</style>\n",
       "<table border=\"1\" class=\"dataframe\">\n",
       "  <thead>\n",
       "    <tr style=\"text-align: right;\">\n",
       "      <th></th>\n",
       "      <th>method</th>\n",
       "      <th>outcome</th>\n",
       "      <th>recall</th>\n",
       "      <th>true_positives</th>\n",
       "    </tr>\n",
       "  </thead>\n",
       "  <tbody>\n",
       "    <tr>\n",
       "      <th>0</th>\n",
       "      <td>rank by complaints</td>\n",
       "      <td>expensive lawsuits</td>\n",
       "      <td>0.218382</td>\n",
       "      <td>149.96</td>\n",
       "    </tr>\n",
       "    <tr>\n",
       "      <th>1</th>\n",
       "      <td>rank by lawsuits</td>\n",
       "      <td>expensive lawsuits</td>\n",
       "      <td>0.203485</td>\n",
       "      <td>138.16</td>\n",
       "    </tr>\n",
       "    <tr>\n",
       "      <th>2</th>\n",
       "      <td>machine learning</td>\n",
       "      <td>expensive lawsuits</td>\n",
       "      <td>0.272327</td>\n",
       "      <td>185.00</td>\n",
       "    </tr>\n",
       "  </tbody>\n",
       "</table>\n",
       "</div>"
      ],
      "text/plain": [
       "               method             outcome    recall  true_positives\n",
       "0  rank by complaints  expensive lawsuits  0.218382          149.96\n",
       "1    rank by lawsuits  expensive lawsuits  0.203485          138.16\n",
       "2    machine learning  expensive lawsuits  0.272327          185.00"
      ]
     },
     "execution_count": 13,
     "metadata": {},
     "output_type": "execute_result"
    }
   ],
   "source": [
    "all_results = []\n",
    "recall, true_positives = calc_recall_and_num_true_positives_rbc(df_lawsuits,rbc_col, lawsuit_outcome,.95)\n",
    "\n",
    "results = {\n",
    "    'method':'rank by complaints',\n",
    "    'outcome':'expensive lawsuits',\n",
    "    'recall':recall,\n",
    "    'true_positives':true_positives\n",
    "}\n",
    "all_results.append(results)\n",
    "\n",
    "recall, true_positives = calc_recall_and_num_true_positives_rbc(df_lawsuits,rbl_col, lawsuit_outcome,.95)\n",
    "results = {\n",
    "    'method':'rank by lawsuits',\n",
    "    'outcome':'expensive lawsuits',\n",
    "    'recall':recall,\n",
    "    'true_positives':true_positives\n",
    "}\n",
    "all_results.append(results)\n",
    "\n",
    "\n",
    "recall = calc_recall(df_lawsuits, 'phat',lawsuit_outcome,.95)\n",
    "true_positives = calc_num_true_postives(df_lawsuits, 'phat',lawsuit_outcome,.95)\n",
    "\n",
    "results = {\n",
    "    'method':'machine learning',\n",
    "    'outcome':'expensive lawsuits',\n",
    "    'recall':recall,\n",
    "    'true_positives':true_positives\n",
    "}\n",
    "all_results.append(results)\n",
    "\n",
    "pd.DataFrame(all_results)"
   ]
  },
  {
   "cell_type": "markdown",
   "id": "61505503-551b-48f0-a5fa-1ed01bd332e2",
   "metadata": {},
   "source": [
    "# C4: Predictive value of non-sustained complaints"
   ]
  },
  {
   "cell_type": "markdown",
   "id": "e39d43c4-e34e-4d3d-8b68-27cb47bc090d",
   "metadata": {},
   "source": [
    "### Drop in accuracy when predicting future sustained complaints"
   ]
  },
  {
   "cell_type": "code",
   "execution_count": 14,
   "id": "7163155b-16da-41fb-8973-e20f3d3a79b9",
   "metadata": {},
   "outputs": [
    {
     "data": {
      "text/html": [
       "<div>\n",
       "<style scoped>\n",
       "    .dataframe tbody tr th:only-of-type {\n",
       "        vertical-align: middle;\n",
       "    }\n",
       "\n",
       "    .dataframe tbody tr th {\n",
       "        vertical-align: top;\n",
       "    }\n",
       "\n",
       "    .dataframe thead th {\n",
       "        text-align: right;\n",
       "    }\n",
       "</style>\n",
       "<table border=\"1\" class=\"dataframe\">\n",
       "  <thead>\n",
       "    <tr style=\"text-align: right;\">\n",
       "      <th></th>\n",
       "      <th>method</th>\n",
       "      <th>outcome</th>\n",
       "      <th>recall</th>\n",
       "      <th>true_positives</th>\n",
       "    </tr>\n",
       "  </thead>\n",
       "  <tbody>\n",
       "    <tr>\n",
       "      <th>0</th>\n",
       "      <td>Model with all prior complaints</td>\n",
       "      <td>sustained complaints</td>\n",
       "      <td>0.185540</td>\n",
       "      <td>202.6</td>\n",
       "    </tr>\n",
       "    <tr>\n",
       "      <th>1</th>\n",
       "      <td>Model with only sustained complaints</td>\n",
       "      <td>sustained complaints</td>\n",
       "      <td>0.110553</td>\n",
       "      <td>119.0</td>\n",
       "    </tr>\n",
       "  </tbody>\n",
       "</table>\n",
       "</div>"
      ],
      "text/plain": [
       "                                 method               outcome    recall  \\\n",
       "0       Model with all prior complaints  sustained complaints  0.185540   \n",
       "1  Model with only sustained complaints  sustained complaints  0.110553   \n",
       "\n",
       "   true_positives  \n",
       "0           202.6  \n",
       "1           119.0  "
      ]
     },
     "execution_count": 14,
     "metadata": {},
     "output_type": "execute_result"
    }
   ],
   "source": [
    "threshold = .95\n",
    "all_results = []\n",
    "\n",
    "all_complaints_col = 'phat__only_complaints'\n",
    "recall = calc_recall(df_sus_complaints, all_complaints_col,complaint_outcome,threshold)\n",
    "true_positives = calc_num_true_postives(df_sus_complaints, all_complaints_col,complaint_outcome,threshold)\n",
    "\n",
    "results = {\n",
    "    'method':'Model with all prior complaints',\n",
    "    'outcome':'sustained complaints',\n",
    "    'recall':recall,\n",
    "    'true_positives':true_positives\n",
    "}\n",
    "all_results.append(results)\n",
    "\n",
    "\n",
    "sus_complaint_col = 'phat__only_sus_complaints'\n",
    "recall = calc_recall(df_sus_complaints, sus_complaint_col,complaint_outcome,threshold)\n",
    "true_positives = calc_num_true_postives(df_sus_complaints, sus_complaint_col,complaint_outcome,threshold)\n",
    "\n",
    "results = {\n",
    "    'method':'Model with only sustained complaints',\n",
    "    'outcome':'sustained complaints',\n",
    "    'recall':recall,\n",
    "    'true_positives':true_positives\n",
    "}\n",
    "all_results.append(results)\n",
    "\n",
    "pd.DataFrame(all_results)"
   ]
  },
  {
   "cell_type": "markdown",
   "id": "9cab2964-6af6-42b4-aaea-fb697595b2ba",
   "metadata": {},
   "source": [
    "### Drop in accuracy when predicting future expensive lawsuits"
   ]
  },
  {
   "cell_type": "code",
   "execution_count": 15,
   "id": "815f08c1-dcb9-411e-b5e0-3d67a307c071",
   "metadata": {},
   "outputs": [
    {
     "data": {
      "text/html": [
       "<div>\n",
       "<style scoped>\n",
       "    .dataframe tbody tr th:only-of-type {\n",
       "        vertical-align: middle;\n",
       "    }\n",
       "\n",
       "    .dataframe tbody tr th {\n",
       "        vertical-align: top;\n",
       "    }\n",
       "\n",
       "    .dataframe thead th {\n",
       "        text-align: right;\n",
       "    }\n",
       "</style>\n",
       "<table border=\"1\" class=\"dataframe\">\n",
       "  <thead>\n",
       "    <tr style=\"text-align: right;\">\n",
       "      <th></th>\n",
       "      <th>method</th>\n",
       "      <th>outcome</th>\n",
       "      <th>recall</th>\n",
       "      <th>true_positives</th>\n",
       "    </tr>\n",
       "  </thead>\n",
       "  <tbody>\n",
       "    <tr>\n",
       "      <th>0</th>\n",
       "      <td>Model with all prior complaints</td>\n",
       "      <td>expensive lawsuits</td>\n",
       "      <td>0.238848</td>\n",
       "      <td>164.8</td>\n",
       "    </tr>\n",
       "    <tr>\n",
       "      <th>1</th>\n",
       "      <td>Model with only sustained complaints</td>\n",
       "      <td>expensive lawsuits</td>\n",
       "      <td>0.146118</td>\n",
       "      <td>99.2</td>\n",
       "    </tr>\n",
       "  </tbody>\n",
       "</table>\n",
       "</div>"
      ],
      "text/plain": [
       "                                 method             outcome    recall  \\\n",
       "0       Model with all prior complaints  expensive lawsuits  0.238848   \n",
       "1  Model with only sustained complaints  expensive lawsuits  0.146118   \n",
       "\n",
       "   true_positives  \n",
       "0           164.8  \n",
       "1            99.2  "
      ]
     },
     "execution_count": 15,
     "metadata": {},
     "output_type": "execute_result"
    }
   ],
   "source": [
    "threshold = .95\n",
    "all_results = []\n",
    "\n",
    "all_complaints_col = 'phat__only_complaints'\n",
    "recall = calc_recall(df_lawsuits, all_complaints_col,lawsuit_outcome,threshold)\n",
    "true_positives = calc_num_true_postives(df_lawsuits, all_complaints_col,lawsuit_outcome,threshold)\n",
    "\n",
    "results = {\n",
    "    'method':'Model with all prior complaints',\n",
    "    'outcome':'expensive lawsuits',\n",
    "    'recall':recall,\n",
    "    'true_positives':true_positives\n",
    "}\n",
    "all_results.append(results)\n",
    "\n",
    "\n",
    "sus_complaint_col = 'phat__only_sus_complaints'\n",
    "recall = calc_recall(df_lawsuits, sus_complaint_col,lawsuit_outcome,threshold)\n",
    "true_positives = calc_num_true_postives(df_lawsuits, sus_complaint_col,lawsuit_outcome,threshold)\n",
    "\n",
    "results = {\n",
    "    'method':'Model with only sustained complaints',\n",
    "    'outcome':'expensive lawsuits',\n",
    "    'recall':recall,\n",
    "    'true_positives':true_positives\n",
    "}\n",
    "all_results.append(results)\n",
    "\n",
    "pd.DataFrame(all_results)"
   ]
  },
  {
   "cell_type": "markdown",
   "id": "5efc905a-8a61-4234-ac9b-276093a01b04",
   "metadata": {},
   "source": [
    "# B3: Focus on patterns, not events "
   ]
  },
  {
   "cell_type": "code",
   "execution_count": 16,
   "id": "43d2f6f4-7ff0-47e7-82c3-ef26370bbd35",
   "metadata": {},
   "outputs": [],
   "source": [
    "serious_col = 'past_five_years.complaints.disposition_substantiated'\n",
    "frequent_col = 'past_five_years.complaints.total'"
   ]
  },
  {
   "cell_type": "code",
   "execution_count": 17,
   "id": "1de3150a-418e-4289-8587-e9581f788e39",
   "metadata": {},
   "outputs": [],
   "source": [
    "def get_serious_vs_frequent(df, serious_col, frequent_col, outcome_col):\n",
    "    \n",
    "\n",
    "    all_results = []\n",
    "    for p in df['pred_year'].unique():\n",
    "        temp = df[df_lawsuits['pred_year']==p].copy()\n",
    "        temp['serious_flagged'] = temp[serious_col] >= 1\n",
    "        serious_flag_rate = temp['serious_flagged'].mean()\n",
    "\n",
    "        temp_results = {\n",
    "            'pred_year':p,\n",
    "            'flag_rate':serious_flag_rate,\n",
    "            'serious_precision':temp[temp.serious_flagged==1][outcome_col].clip(upper=1).mean(),\n",
    "            'frequent_precision':calc_precision_rbc(temp, frequent_col,outcome_col,1.0-serious_flag_rate),\n",
    "            'base rate':temp[outcome_col].clip(upper=1).mean()\n",
    "        }\n",
    "        all_results.append(temp_results)\n",
    "\n",
    "    all_results = pd.DataFrame(all_results)\n",
    "    return all_results"
   ]
  },
  {
   "cell_type": "markdown",
   "id": "96d42e74-02cc-4569-ae95-4591186a70bd",
   "metadata": {},
   "source": [
    "### Sustained complaints\n",
    "\n"
   ]
  },
  {
   "cell_type": "code",
   "execution_count": 18,
   "id": "e32a16ed-bad4-46cf-b7b9-edc08a3e97e5",
   "metadata": {},
   "outputs": [
    {
     "data": {
      "text/plain": [
       "base rate             0.031081\n",
       "serious_precision     0.074646\n",
       "frequent_precision    0.107663\n",
       "dtype: float64"
      ]
     },
     "execution_count": 18,
     "metadata": {},
     "output_type": "execute_result"
    }
   ],
   "source": [
    "serious_col = 'past_five_years.complaints.disposition_substantiated'\n",
    "frequent_col = 'past_five_years.complaints.total'\n",
    "results = get_serious_vs_frequent(df_sus_complaints,serious_col, frequent_col, complaint_outcome)\n",
    "\n",
    "results[['base rate','serious_precision','frequent_precision']].mean()\n",
    "\n"
   ]
  },
  {
   "cell_type": "markdown",
   "id": "18c9f8d9-aa3d-40ed-bc39-414b2f29791d",
   "metadata": {},
   "source": [
    "### Lawsuits\n",
    "\n",
    "The lawsuit data doesn't have as many years of pre-period data, so we test the effect of limiting the focal years to 2017 or later (since lawsuit data only starts in 2012 or 2013). The decision of whether to limit to 2017 or later affects the overall level of precision but the relative precision of the serious and frequent policy is the same (the frequent policy is rughly twice as accurate in both cases). "
   ]
  },
  {
   "cell_type": "code",
   "execution_count": 19,
   "id": "2fa120b4-86ae-4439-8537-611673ac9370",
   "metadata": {},
   "outputs": [
    {
     "data": {
      "text/plain": [
       "base rate             0.019773\n",
       "serious_precision     0.064998\n",
       "frequent_precision    0.134339\n",
       "dtype: float64"
      ]
     },
     "execution_count": 19,
     "metadata": {},
     "output_type": "execute_result"
    }
   ],
   "source": [
    "serious_col = 'past_five_years.lawsuits.high_payout_suit'\n",
    "frequent_col = 'past_five_years.lawsuits.total'\n",
    "results = get_serious_vs_frequent(df_lawsuits,serious_col, frequent_col, lawsuit_outcome)\n",
    "\n",
    "results[['base rate','serious_precision','frequent_precision']].mean()"
   ]
  },
  {
   "cell_type": "code",
   "execution_count": 20,
   "id": "54238d45-df9f-4ccf-8abd-79d0bb77409c",
   "metadata": {},
   "outputs": [
    {
     "data": {
      "text/plain": [
       "base rate             0.015999\n",
       "serious_precision     0.040252\n",
       "frequent_precision    0.081729\n",
       "dtype: float64"
      ]
     },
     "execution_count": 20,
     "metadata": {},
     "output_type": "execute_result"
    }
   ],
   "source": [
    "serious_col = 'past_five_years.lawsuits.high_payout_suit'\n",
    "frequent_col = 'past_five_years.lawsuits.total'\n",
    "results = get_serious_vs_frequent(df_lawsuits[df_lawsuits.pred_year >= 2017],serious_col, frequent_col, lawsuit_outcome)\n",
    "\n",
    "results[['base rate','serious_precision','frequent_precision']].mean()"
   ]
  },
  {
   "cell_type": "code",
   "execution_count": null,
   "id": "2a9496ad",
   "metadata": {},
   "outputs": [],
   "source": []
  }
 ],
 "metadata": {
  "kernelspec": {
   "display_name": "Python 3 (ipykernel)",
   "language": "python",
   "name": "python3"
  },
  "language_info": {
   "codemirror_mode": {
    "name": "ipython",
    "version": 3
   },
   "file_extension": ".py",
   "mimetype": "text/x-python",
   "name": "python",
   "nbconvert_exporter": "python",
   "pygments_lexer": "ipython3",
   "version": "3.7.8"
  }
 },
 "nbformat": 4,
 "nbformat_minor": 5
}
